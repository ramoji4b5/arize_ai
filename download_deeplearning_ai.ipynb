{
 "cells": [
  {
   "cell_type": "code",
   "execution_count": null,
   "id": "cc3d6060",
   "metadata": {
    "vscode": {
     "languageId": "plaintext"
    }
   },
   "outputs": [],
   "source": [
    "import shutil\n",
    "\n",
    "# Zip everything in the current directory (excluding the .ipynb_checkpoints)\n",
    "shutil.make_archive('all_files', 'zip', '.')\n",
    "\n",
    "print(\"Done zipping!\")"
   ]
  }
 ],
 "metadata": {
  "language_info": {
   "name": "python"
  }
 },
 "nbformat": 4,
 "nbformat_minor": 5
}
