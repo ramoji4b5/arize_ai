{
 "cells": [
  {
   "cell_type": "code",
   "execution_count": null,
   "id": "cc3d6060",
   "metadata": {},
   "outputs": [],
   "source": [
    "import shutil\n",
    "\n",
    "# Zip everything in the current directory (excluding the .ipynb_checkpoints)\n",
    "shutil.make_archive('all_files', 'zip', '.')\n",
    "\n",
    "print(\"Done zipping!\")"
   ]
  }
 ],
 "metadata": {
  "kernelspec": {
   "display_name": ".venv",
   "language": "python",
   "name": "python3"
  },
  "language_info": {
   "name": "python",
   "version": "3.12.5"
  }
 },
 "nbformat": 4,
 "nbformat_minor": 5
}
